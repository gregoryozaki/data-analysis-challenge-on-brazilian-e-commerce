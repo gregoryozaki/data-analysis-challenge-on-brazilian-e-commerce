{
  "nbformat": 4,
  "nbformat_minor": 0,
  "metadata": {
    "colab": {
      "provenance": [],
      "authorship_tag": "ABX9TyO1JTEsGhBkf8vkcEK1tPne",
      "include_colab_link": true
    },
    "kernelspec": {
      "name": "python3",
      "display_name": "Python 3"
    },
    "language_info": {
      "name": "python"
    }
  },
  "cells": [
    {
      "cell_type": "markdown",
      "metadata": {
        "id": "view-in-github",
        "colab_type": "text"
      },
      "source": [
        "<a href=\"https://colab.research.google.com/github/gregoryozaki/data-analysis-challenge-on-brazilian-e-commerce/blob/main/dataAnalysisChallenge.ipynb\" target=\"_parent\"><img src=\"https://colab.research.google.com/assets/colab-badge.svg\" alt=\"Open In Colab\"/></a>"
      ]
    },
    {
      "cell_type": "markdown",
      "source": [
        "# **ETL**"
      ],
      "metadata": {
        "id": "poU4bFbjUTw9"
      }
    },
    {
      "cell_type": "markdown",
      "source": [
        "### **1. Extração dos Dados**"
      ],
      "metadata": {
        "id": "VRKG2OLkUfYs"
      }
    },
    {
      "cell_type": "code",
      "source": [
        "import os\n",
        "import pandas as pd\n",
        "import numpy as np\n",
        "import altair as alt\n",
        "from google.colab import drive\n",
        "\n",
        "drive.mount('/content/drive')\n",
        "\n",
        "\n",
        "data_path = '/content/drive/MyDrive/Brazilian E-Commerce Public Dataset by Olist/'\n",
        "output_path = os.path.join(data_path, 'processed_merged_df.csv')\n",
        "\n",
        "print(\"\\nVerificando arquivos...\")\n",
        "required_files = [\n",
        "    'olist_customers_dataset.csv', 'olist_geolocation_dataset.csv',\n",
        "    'olist_order_items_dataset.csv', 'olist_order_payments_dataset.csv',\n",
        "    'olist_order_reviews_dataset.csv', 'olist_orders_dataset.csv',\n",
        "    'olist_products_dataset.csv', 'olist_sellers_dataset.csv',\n",
        "    'product_category_name_translation.csv'\n",
        "]\n",
        "\n",
        "for file in required_files:\n",
        "    assert os.path.exists(os.path.join(data_path, file)), f\"Arquivo não encontrado: {file}\"\n",
        "print(\"Todos os arquivos foram encontrados com sucesso.\")\n",
        "\n",
        "def remove_duplicates(df, name):\n",
        "    dups = df.duplicated().sum()\n",
        "    if dups > 0:\n",
        "        df.drop_duplicates(inplace=True)\n",
        "        print(f\"{name}: {dups} duplicatas removidas.\")\n",
        "    else:\n",
        "        print(f\"{name}: sem duplicatas.\")\n",
        "    return df\n",
        "\n",
        "def convert_to_datetime(df, cols):\n",
        "    for col in cols:\n",
        "        df[col] = pd.to_datetime(df[col], errors='coerce')\n",
        "        print(f\"{col} convertido para datetime.\")\n",
        "    return df\n",
        "\n",
        "print(\"\\nLendo datasets...\")\n",
        "customers_df = pd.read_csv(os.path.join(data_path, 'olist_customers_dataset.csv'))\n",
        "geolocation_df = pd.read_csv(os.path.join(data_path, 'olist_geolocation_dataset.csv'))\n",
        "order_items_df = pd.read_csv(os.path.join(data_path, 'olist_order_items_dataset.csv'))\n",
        "order_payments_df = pd.read_csv(os.path.join(data_path, 'olist_order_payments_dataset.csv'))\n",
        "order_reviews_df = pd.read_csv(os.path.join(data_path, 'olist_order_reviews_dataset.csv'))\n",
        "orders_df = pd.read_csv(os.path.join(data_path, 'olist_orders_dataset.csv'))\n",
        "products_df = pd.read_csv(os.path.join(data_path, 'olist_products_dataset.csv'))\n",
        "sellers_df = pd.read_csv(os.path.join(data_path, 'olist_sellers_dataset.csv'))\n",
        "product_category_translation_df = pd.read_csv(os.path.join(data_path, 'product_category_name_translation.csv'))"
      ],
      "metadata": {
        "colab": {
          "base_uri": "https://localhost:8080/"
        },
        "id": "KXWp_WdtUuCW",
        "outputId": "3743a2be-4c5d-4c2a-a7c4-e32462ba712c"
      },
      "execution_count": 2,
      "outputs": [
        {
          "output_type": "stream",
          "name": "stdout",
          "text": [
            "Drive already mounted at /content/drive; to attempt to forcibly remount, call drive.mount(\"/content/drive\", force_remount=True).\n",
            "\n",
            "Verificando arquivos...\n",
            "Todos os arquivos foram encontrados com sucesso.\n",
            "\n",
            "Lendo datasets...\n"
          ]
        }
      ]
    },
    {
      "cell_type": "markdown",
      "source": [
        "### 2. Transformação dos dados"
      ],
      "metadata": {
        "id": "w_T6AIJxU8Mt"
      }
    },
    {
      "cell_type": "code",
      "execution_count": 3,
      "metadata": {
        "colab": {
          "base_uri": "https://localhost:8080/"
        },
        "id": "U7dv4PcEi33m",
        "outputId": "a10f25d5-913e-4dba-cfab-809eb62e0520"
      },
      "outputs": [
        {
          "output_type": "stream",
          "name": "stdout",
          "text": [
            "\n",
            "Removendo duplicatas...\n",
            "Customers: sem duplicatas.\n",
            "Geolocation: 261831 duplicatas removidas.\n",
            "Order Items: sem duplicatas.\n",
            "Order Payments: sem duplicatas.\n",
            "Order Reviews: sem duplicatas.\n",
            "Orders: sem duplicatas.\n",
            "Products: sem duplicatas.\n",
            "Sellers: sem duplicatas.\n",
            "Category Translation: sem duplicatas.\n",
            "\n",
            "Convertendo colunas de data para datetime...\n",
            "order_purchase_timestamp convertido para datetime.\n",
            "order_approved_at convertido para datetime.\n",
            "order_delivered_carrier_date convertido para datetime.\n",
            "order_delivered_customer_date convertido para datetime.\n",
            "order_estimated_delivery_date convertido para datetime.\n",
            "shipping_limit_date convertido para datetime.\n",
            "review_creation_date convertido para datetime.\n",
            "review_answer_timestamp convertido para datetime.\n",
            "\n",
            "Agregando dados de geolocalização por CEP...\n",
            "\n",
            "Fazendo merge dos DataFrames...\n",
            "\n",
            "Adicionando geolocalização de clientes e vendedores...\n",
            "\n",
            "Tratando valores nulos em categorias de produtos...\n"
          ]
        }
      ],
      "source": [
        "print(\"\\nRemovendo duplicatas...\")\n",
        "customers_df = remove_duplicates(customers_df, \"Customers\")\n",
        "geolocation_df = remove_duplicates(geolocation_df, \"Geolocation\")\n",
        "order_items_df = remove_duplicates(order_items_df, \"Order Items\")\n",
        "order_payments_df = remove_duplicates(order_payments_df, \"Order Payments\")\n",
        "order_reviews_df = remove_duplicates(order_reviews_df, \"Order Reviews\")\n",
        "orders_df = remove_duplicates(orders_df, \"Orders\")\n",
        "products_df = remove_duplicates(products_df, \"Products\")\n",
        "sellers_df = remove_duplicates(sellers_df, \"Sellers\")\n",
        "product_category_translation_df = remove_duplicates(product_category_translation_df, \"Category Translation\")\n",
        "\n",
        "print(\"\\nConvertendo colunas de data para datetime...\")\n",
        "orders_df = convert_to_datetime(orders_df, [\n",
        "    'order_purchase_timestamp', 'order_approved_at',\n",
        "    'order_delivered_carrier_date', 'order_delivered_customer_date',\n",
        "    'order_estimated_delivery_date'\n",
        "])\n",
        "order_items_df = convert_to_datetime(order_items_df, ['shipping_limit_date'])\n",
        "order_reviews_df = convert_to_datetime(order_reviews_df, ['review_creation_date', 'review_answer_timestamp'])\n",
        "\n",
        "print(\"\\nAgregando dados de geolocalização por CEP...\")\n",
        "geolocation_agg_df = geolocation_df.groupby('geolocation_zip_code_prefix').agg(\n",
        "    geolocation_lat=('geolocation_lat', 'mean'),\n",
        "    geolocation_lng=('geolocation_lng', 'mean')\n",
        ").reset_index()\n",
        "\n",
        "print(\"\\nFazendo merge dos DataFrames...\")\n",
        "merged_df = pd.merge(orders_df, customers_df, on='customer_id', how='left')\n",
        "merged_df = pd.merge(merged_df, order_items_df, on='order_id', how='left')\n",
        "merged_df = pd.merge(merged_df, products_df, on='product_id', how='left')\n",
        "merged_df = pd.merge(merged_df, product_category_translation_df, on='product_category_name', how='left')\n",
        "merged_df = pd.merge(merged_df, order_payments_df, on='order_id', how='left')\n",
        "merged_df = pd.merge(merged_df, order_reviews_df, on='order_id', how='left')\n",
        "merged_df = pd.merge(merged_df, sellers_df, on='seller_id', how='left')\n",
        "\n",
        "print(\"\\nAdicionando geolocalização de clientes e vendedores...\")\n",
        "\n",
        "customer_geo_df = geolocation_agg_df.rename(columns={\n",
        "    'geolocation_zip_code_prefix': 'customer_zip_code_prefix',\n",
        "    'geolocation_lat': 'customer_geolocation_lat',\n",
        "    'geolocation_lng': 'customer_geolocation_lng'\n",
        "})\n",
        "merged_df = pd.merge(merged_df, customer_geo_df, on='customer_zip_code_prefix', how='left')\n",
        "\n",
        "seller_geo_df = geolocation_agg_df.rename(columns={\n",
        "    'geolocation_zip_code_prefix': 'seller_zip_code_prefix',\n",
        "    'geolocation_lat': 'seller_geolocation_lat',\n",
        "    'geolocation_lng': 'seller_geolocation_lng'\n",
        "})\n",
        "merged_df = pd.merge(merged_df, seller_geo_df, on='seller_zip_code_prefix', how='left')\n",
        "\n",
        "print(\"\\nTratando valores nulos em categorias de produtos...\")\n",
        "merged_df['product_category_name_english'] = merged_df['product_category_name_english'].fillna(\n",
        "    merged_df['product_category_name']\n",
        ").fillna('Unknown')\n"
      ]
    },
    {
      "cell_type": "markdown",
      "source": [
        "### **3. Carregamento dos dados**"
      ],
      "metadata": {
        "id": "r0jvPEJOVg8s"
      }
    },
    {
      "cell_type": "code",
      "source": [
        "print(\"\\nETL concluído com sucesso!\")\n",
        "print(\"DataFrame final pronto para análise:\")\n",
        "print(merged_df.head())\n",
        "print(merged_df.info())\n",
        "\n",
        "merged_df.to_csv(output_path, index=False)\n",
        "print(f\"DataFrame salvo em: {output_path}\")"
      ],
      "metadata": {
        "colab": {
          "base_uri": "https://localhost:8080/"
        },
        "id": "xcC3wEYZUJTT",
        "outputId": "19a52cfa-9b41-4c4a-b002-550d494facb5"
      },
      "execution_count": 4,
      "outputs": [
        {
          "output_type": "stream",
          "name": "stdout",
          "text": [
            "\n",
            "ETL concluído com sucesso!\n",
            "DataFrame final pronto para análise:\n",
            "                           order_id                       customer_id  \\\n",
            "0  e481f51cbdc54678b7cc49136f2d6af7  9ef432eb6251297304e76186b10a928d   \n",
            "1  e481f51cbdc54678b7cc49136f2d6af7  9ef432eb6251297304e76186b10a928d   \n",
            "2  e481f51cbdc54678b7cc49136f2d6af7  9ef432eb6251297304e76186b10a928d   \n",
            "3  53cdb2fc8bc7dce0b6741e2150273451  b0830fb4747a6c6d20dea0b8c802d7ef   \n",
            "4  47770eb9100c2d0c44946d9cf07ec65d  41ce2a54c0b03bf3443c3d931a367089   \n",
            "\n",
            "  order_status order_purchase_timestamp   order_approved_at  \\\n",
            "0    delivered      2017-10-02 10:56:33 2017-10-02 11:07:15   \n",
            "1    delivered      2017-10-02 10:56:33 2017-10-02 11:07:15   \n",
            "2    delivered      2017-10-02 10:56:33 2017-10-02 11:07:15   \n",
            "3    delivered      2018-07-24 20:41:37 2018-07-26 03:24:27   \n",
            "4    delivered      2018-08-08 08:38:49 2018-08-08 08:55:23   \n",
            "\n",
            "  order_delivered_carrier_date order_delivered_customer_date  \\\n",
            "0          2017-10-04 19:55:00           2017-10-10 21:25:13   \n",
            "1          2017-10-04 19:55:00           2017-10-10 21:25:13   \n",
            "2          2017-10-04 19:55:00           2017-10-10 21:25:13   \n",
            "3          2018-07-26 14:31:00           2018-08-07 15:27:45   \n",
            "4          2018-08-08 13:50:00           2018-08-17 18:06:29   \n",
            "\n",
            "  order_estimated_delivery_date                customer_unique_id  \\\n",
            "0                    2017-10-18  7c396fd4830fd04220f754e42b4e5bff   \n",
            "1                    2017-10-18  7c396fd4830fd04220f754e42b4e5bff   \n",
            "2                    2017-10-18  7c396fd4830fd04220f754e42b4e5bff   \n",
            "3                    2018-08-13  af07308b275d755c9edb36a90c618231   \n",
            "4                    2018-09-04  3a653a41f6f9fc3d2a113cf8398680e8   \n",
            "\n",
            "   customer_zip_code_prefix  ...  \\\n",
            "0                      3149  ...   \n",
            "1                      3149  ...   \n",
            "2                      3149  ...   \n",
            "3                     47813  ...   \n",
            "4                     75265  ...   \n",
            "\n",
            "                              review_comment_message review_creation_date  \\\n",
            "0  Não testei o produto ainda, mas ele veio corre...           2017-10-11   \n",
            "1  Não testei o produto ainda, mas ele veio corre...           2017-10-11   \n",
            "2  Não testei o produto ainda, mas ele veio corre...           2017-10-11   \n",
            "3                               Muito bom o produto.           2018-08-08   \n",
            "4                                                NaN           2018-08-18   \n",
            "\n",
            "   review_answer_timestamp seller_zip_code_prefix     seller_city  \\\n",
            "0      2017-10-12 03:43:48                 9350.0            maua   \n",
            "1      2017-10-12 03:43:48                 9350.0            maua   \n",
            "2      2017-10-12 03:43:48                 9350.0            maua   \n",
            "3      2018-08-08 18:37:50                31570.0  belo horizonte   \n",
            "4      2018-08-22 19:07:58                14840.0         guariba   \n",
            "\n",
            "  seller_state  customer_geolocation_lat  customer_geolocation_lng  \\\n",
            "0           SP                -23.577482                -46.587077   \n",
            "1           SP                -23.577482                -46.587077   \n",
            "2           SP                -23.577482                -46.587077   \n",
            "3           SP                -12.186877                -44.540232   \n",
            "4           SP                -16.745150                -48.514783   \n",
            "\n",
            "  seller_geolocation_lat  seller_geolocation_lng  \n",
            "0             -23.680862              -46.444311  \n",
            "1             -23.680862              -46.444311  \n",
            "2             -23.680862              -46.444311  \n",
            "3             -19.807885              -43.980818  \n",
            "4             -21.363473              -48.229588  \n",
            "\n",
            "[5 rows x 44 columns]\n",
            "<class 'pandas.core.frame.DataFrame'>\n",
            "RangeIndex: 119143 entries, 0 to 119142\n",
            "Data columns (total 44 columns):\n",
            " #   Column                         Non-Null Count   Dtype         \n",
            "---  ------                         --------------   -----         \n",
            " 0   order_id                       119143 non-null  object        \n",
            " 1   customer_id                    119143 non-null  object        \n",
            " 2   order_status                   119143 non-null  object        \n",
            " 3   order_purchase_timestamp       119143 non-null  datetime64[ns]\n",
            " 4   order_approved_at              118966 non-null  datetime64[ns]\n",
            " 5   order_delivered_carrier_date   117057 non-null  datetime64[ns]\n",
            " 6   order_delivered_customer_date  115722 non-null  datetime64[ns]\n",
            " 7   order_estimated_delivery_date  119143 non-null  datetime64[ns]\n",
            " 8   customer_unique_id             119143 non-null  object        \n",
            " 9   customer_zip_code_prefix       119143 non-null  int64         \n",
            " 10  customer_city                  119143 non-null  object        \n",
            " 11  customer_state                 119143 non-null  object        \n",
            " 12  order_item_id                  118310 non-null  float64       \n",
            " 13  product_id                     118310 non-null  object        \n",
            " 14  seller_id                      118310 non-null  object        \n",
            " 15  shipping_limit_date            118310 non-null  datetime64[ns]\n",
            " 16  price                          118310 non-null  float64       \n",
            " 17  freight_value                  118310 non-null  float64       \n",
            " 18  product_category_name          116601 non-null  object        \n",
            " 19  product_name_lenght            116601 non-null  float64       \n",
            " 20  product_description_lenght     116601 non-null  float64       \n",
            " 21  product_photos_qty             116601 non-null  float64       \n",
            " 22  product_weight_g               118290 non-null  float64       \n",
            " 23  product_length_cm              118290 non-null  float64       \n",
            " 24  product_height_cm              118290 non-null  float64       \n",
            " 25  product_width_cm               118290 non-null  float64       \n",
            " 26  product_category_name_english  119143 non-null  object        \n",
            " 27  payment_sequential             119140 non-null  float64       \n",
            " 28  payment_type                   119140 non-null  object        \n",
            " 29  payment_installments           119140 non-null  float64       \n",
            " 30  payment_value                  119140 non-null  float64       \n",
            " 31  review_id                      118146 non-null  object        \n",
            " 32  review_score                   118146 non-null  float64       \n",
            " 33  review_comment_title           13989 non-null   object        \n",
            " 34  review_comment_message         50245 non-null   object        \n",
            " 35  review_creation_date           118146 non-null  datetime64[ns]\n",
            " 36  review_answer_timestamp        118146 non-null  datetime64[ns]\n",
            " 37  seller_zip_code_prefix         118310 non-null  float64       \n",
            " 38  seller_city                    118310 non-null  object        \n",
            " 39  seller_state                   118310 non-null  object        \n",
            " 40  customer_geolocation_lat       118821 non-null  float64       \n",
            " 41  customer_geolocation_lng       118821 non-null  float64       \n",
            " 42  seller_geolocation_lat         118045 non-null  float64       \n",
            " 43  seller_geolocation_lng         118045 non-null  float64       \n",
            "dtypes: datetime64[ns](8), float64(19), int64(1), object(16)\n",
            "memory usage: 40.0+ MB\n",
            "None\n",
            "DataFrame salvo em: /content/drive/MyDrive/Brazilian E-Commerce Public Dataset by Olist/processed_merged_df.csv\n"
          ]
        }
      ]
    },
    {
      "cell_type": "markdown",
      "source": [
        "# **Análise Exploratória**"
      ],
      "metadata": {
        "id": "HNfGRdBrV5VE"
      }
    },
    {
      "cell_type": "markdown",
      "source": [
        "## **1. Análise de Performance de Vendas**"
      ],
      "metadata": {
        "id": "5UUMKXTAV5I1"
      }
    },
    {
      "cell_type": "markdown",
      "source": [
        "**Tendências de Crescimento:** Analisar as tendências de crescimento de vendas ao\n",
        "longo do tempo para diferentes categorias de produtos"
      ],
      "metadata": {
        "id": "kzfEm6IqWj5V"
      }
    },
    {
      "cell_type": "code",
      "source": [
        "merged_df['order_month'] = merged_df['order_purchase_timestamp'].dt.to_period('M').astype(str)\n",
        "\n",
        "growth_df = merged_df.groupby(['order_month', 'product_category_name_english']).agg(\n",
        "    total_sales=('price', 'sum'),\n",
        "    total_orders=('order_id', 'nunique')\n",
        ").reset_index()\n",
        "\n",
        "top_cats = (growth_df.groupby('product_category_name_english')['total_sales']\n",
        "            .sum().sort_values(ascending=False).head(5).index)\n",
        "\n",
        "growth_df = growth_df[growth_df['product_category_name_english'].isin(top_cats)]\n",
        "\n",
        "chart = alt.Chart(growth_df).mark_line(point=True).encode(\n",
        "    x='order_month:T',\n",
        "    y='total_sales:Q',\n",
        "    color='product_category_name_english:N',\n",
        "    tooltip=['order_month', 'product_category_name_english', 'total_sales']\n",
        ").properties(\n",
        "    title='Tendência de Crescimento das Vendas por Categoria (Top 5)'\n",
        ").interactive()\n",
        "\n",
        "chart"
      ],
      "metadata": {
        "colab": {
          "base_uri": "https://localhost:8080/",
          "height": 380
        },
        "id": "8JWdK-ArWsoT",
        "outputId": "f1fae4f0-6c43-4225-afa4-236e2a7a49de"
      },
      "execution_count": 17,
      "outputs": [
        {
          "output_type": "execute_result",
          "data": {
            "text/html": [
              "\n",
              "<style>\n",
              "  #altair-viz-18bc9ed32cef4ba9a152394bbe73b9a3.vega-embed {\n",
              "    width: 100%;\n",
              "    display: flex;\n",
              "  }\n",
              "\n",
              "  #altair-viz-18bc9ed32cef4ba9a152394bbe73b9a3.vega-embed details,\n",
              "  #altair-viz-18bc9ed32cef4ba9a152394bbe73b9a3.vega-embed details summary {\n",
              "    position: relative;\n",
              "  }\n",
              "</style>\n",
              "<div id=\"altair-viz-18bc9ed32cef4ba9a152394bbe73b9a3\"></div>\n",
              "<script type=\"text/javascript\">\n",
              "  var VEGA_DEBUG = (typeof VEGA_DEBUG == \"undefined\") ? {} : VEGA_DEBUG;\n",
              "  (function(spec, embedOpt){\n",
              "    let outputDiv = document.currentScript.previousElementSibling;\n",
              "    if (outputDiv.id !== \"altair-viz-18bc9ed32cef4ba9a152394bbe73b9a3\") {\n",
              "      outputDiv = document.getElementById(\"altair-viz-18bc9ed32cef4ba9a152394bbe73b9a3\");\n",
              "    }\n",
              "\n",
              "    const paths = {\n",
              "      \"vega\": \"https://cdn.jsdelivr.net/npm/vega@5?noext\",\n",
              "      \"vega-lib\": \"https://cdn.jsdelivr.net/npm/vega-lib?noext\",\n",
              "      \"vega-lite\": \"https://cdn.jsdelivr.net/npm/vega-lite@5.20.1?noext\",\n",
              "      \"vega-embed\": \"https://cdn.jsdelivr.net/npm/vega-embed@6?noext\",\n",
              "    };\n",
              "\n",
              "    function maybeLoadScript(lib, version) {\n",
              "      var key = `${lib.replace(\"-\", \"\")}_version`;\n",
              "      return (VEGA_DEBUG[key] == version) ?\n",
              "        Promise.resolve(paths[lib]) :\n",
              "        new Promise(function(resolve, reject) {\n",
              "          var s = document.createElement('script');\n",
              "          document.getElementsByTagName(\"head\")[0].appendChild(s);\n",
              "          s.async = true;\n",
              "          s.onload = () => {\n",
              "            VEGA_DEBUG[key] = version;\n",
              "            return resolve(paths[lib]);\n",
              "          };\n",
              "          s.onerror = () => reject(`Error loading script: ${paths[lib]}`);\n",
              "          s.src = paths[lib];\n",
              "        });\n",
              "    }\n",
              "\n",
              "    function showError(err) {\n",
              "      outputDiv.innerHTML = `<div class=\"error\" style=\"color:red;\">${err}</div>`;\n",
              "      throw err;\n",
              "    }\n",
              "\n",
              "    function displayChart(vegaEmbed) {\n",
              "      vegaEmbed(outputDiv, spec, embedOpt)\n",
              "        .catch(err => showError(`Javascript Error: ${err.message}<br>This usually means there's a typo in your chart specification. See the javascript console for the full traceback.`));\n",
              "    }\n",
              "\n",
              "    if(typeof define === \"function\" && define.amd) {\n",
              "      requirejs.config({paths});\n",
              "      let deps = [\"vega-embed\"];\n",
              "      require(deps, displayChart, err => showError(`Error loading script: ${err.message}`));\n",
              "    } else {\n",
              "      maybeLoadScript(\"vega\", \"5\")\n",
              "        .then(() => maybeLoadScript(\"vega-lite\", \"5.20.1\"))\n",
              "        .then(() => maybeLoadScript(\"vega-embed\", \"6\"))\n",
              "        .catch(showError)\n",
              "        .then(() => displayChart(vegaEmbed));\n",
              "    }\n",
              "  })({\"config\": {\"view\": {\"continuousWidth\": 300, \"continuousHeight\": 300}}, \"data\": {\"name\": \"data-1177ab7d9a2d80693060c1f7d7b5799b\"}, \"mark\": {\"type\": \"line\", \"point\": true}, \"encoding\": {\"color\": {\"field\": \"product_category_name_english\", \"type\": \"nominal\"}, \"tooltip\": [{\"field\": \"order_month\", \"type\": \"nominal\"}, {\"field\": \"product_category_name_english\", \"type\": \"nominal\"}, {\"field\": \"total_sales\", \"type\": \"quantitative\"}], \"x\": {\"field\": \"order_month\", \"type\": \"temporal\"}, \"y\": {\"field\": \"total_sales\", \"type\": \"quantitative\"}}, \"params\": [{\"name\": \"param_2\", \"select\": {\"type\": \"interval\", \"encodings\": [\"x\", \"y\"]}, \"bind\": \"scales\"}], \"title\": \"Tend\\u00eancia de Crescimento das Vendas por Categoria (Top 5)\", \"$schema\": \"https://vega.github.io/schema/vega-lite/v5.20.1.json\", \"datasets\": {\"data-1177ab7d9a2d80693060c1f7d7b5799b\": [{\"order_month\": \"2016-09\", \"product_category_name_english\": \"health_beauty\", \"total_sales\": 134.97, \"total_orders\": 1}, {\"order_month\": \"2016-10\", \"product_category_name_english\": \"bed_bath_table\", \"total_sales\": 478.99, \"total_orders\": 5}, {\"order_month\": \"2016-10\", \"product_category_name_english\": \"computers_accessories\", \"total_sales\": 1573.22, \"total_orders\": 18}, {\"order_month\": \"2016-10\", \"product_category_name_english\": \"health_beauty\", \"total_sales\": 4672.31, \"total_orders\": 44}, {\"order_month\": \"2016-10\", \"product_category_name_english\": \"sports_leisure\", \"total_sales\": 3333.64, \"total_orders\": 19}, {\"order_month\": \"2016-10\", \"product_category_name_english\": \"watches_gifts\", \"total_sales\": 3360.24, \"total_orders\": 5}, {\"order_month\": \"2017-01\", \"product_category_name_english\": \"bed_bath_table\", \"total_sales\": 4209.95, \"total_orders\": 45}, {\"order_month\": \"2017-01\", \"product_category_name_english\": \"computers_accessories\", \"total_sales\": 3924.1400000000003, \"total_orders\": 24}, {\"order_month\": \"2017-01\", \"product_category_name_english\": \"health_beauty\", \"total_sales\": 15605.22, \"total_orders\": 82}, {\"order_month\": \"2017-01\", \"product_category_name_english\": \"sports_leisure\", \"total_sales\": 10785.26, \"total_orders\": 62}, {\"order_month\": \"2017-01\", \"product_category_name_english\": \"watches_gifts\", \"total_sales\": 8086.52, \"total_orders\": 11}, {\"order_month\": \"2017-02\", \"product_category_name_english\": \"bed_bath_table\", \"total_sales\": 18620.29, \"total_orders\": 146}, {\"order_month\": \"2017-02\", \"product_category_name_english\": \"computers_accessories\", \"total_sales\": 11972.59, \"total_orders\": 97}, {\"order_month\": \"2017-02\", \"product_category_name_english\": \"health_beauty\", \"total_sales\": 26278.39, \"total_orders\": 155}, {\"order_month\": \"2017-02\", \"product_category_name_english\": \"sports_leisure\", \"total_sales\": 17208.08, \"total_orders\": 139}, {\"order_month\": \"2017-02\", \"product_category_name_english\": \"watches_gifts\", \"total_sales\": 11842.21, \"total_orders\": 35}, {\"order_month\": \"2017-03\", \"product_category_name_english\": \"bed_bath_table\", \"total_sales\": 28270.28, \"total_orders\": 249}, {\"order_month\": \"2017-03\", \"product_category_name_english\": \"computers_accessories\", \"total_sales\": 28664.5, \"total_orders\": 150}, {\"order_month\": \"2017-03\", \"product_category_name_english\": \"health_beauty\", \"total_sales\": 26823.95, \"total_orders\": 193}, {\"order_month\": \"2017-03\", \"product_category_name_english\": \"sports_leisure\", \"total_sales\": 33040.95, \"total_orders\": 171}, {\"order_month\": \"2017-03\", \"product_category_name_english\": \"watches_gifts\", \"total_sales\": 26890.28, \"total_orders\": 76}, {\"order_month\": \"2017-04\", \"product_category_name_english\": \"bed_bath_table\", \"total_sales\": 28109.530000000002, \"total_orders\": 234}, {\"order_month\": \"2017-04\", \"product_category_name_english\": \"computers_accessories\", \"total_sales\": 20955.93, \"total_orders\": 120}, {\"order_month\": \"2017-04\", \"product_category_name_english\": \"health_beauty\", \"total_sales\": 23516.64, \"total_orders\": 176}, {\"order_month\": \"2017-04\", \"product_category_name_english\": \"sports_leisure\", \"total_sales\": 26001.87, \"total_orders\": 198}, {\"order_month\": \"2017-04\", \"product_category_name_english\": \"watches_gifts\", \"total_sales\": 25559.47, \"total_orders\": 90}, {\"order_month\": \"2017-05\", \"product_category_name_english\": \"bed_bath_table\", \"total_sales\": 38405.91, \"total_orders\": 329}, {\"order_month\": \"2017-05\", \"product_category_name_english\": \"computers_accessories\", \"total_sales\": 47651.57, \"total_orders\": 260}, {\"order_month\": \"2017-05\", \"product_category_name_english\": \"health_beauty\", \"total_sales\": 48043.27, \"total_orders\": 267}, {\"order_month\": \"2017-05\", \"product_category_name_english\": \"sports_leisure\", \"total_sales\": 37281.75, \"total_orders\": 266}, {\"order_month\": \"2017-05\", \"product_category_name_english\": \"watches_gifts\", \"total_sales\": 40626.75, \"total_orders\": 126}, {\"order_month\": \"2017-06\", \"product_category_name_english\": \"bed_bath_table\", \"total_sales\": 38658.19, \"total_orders\": 335}, {\"order_month\": \"2017-06\", \"product_category_name_english\": \"computers_accessories\", \"total_sales\": 38171.45, \"total_orders\": 219}, {\"order_month\": \"2017-06\", \"product_category_name_english\": \"health_beauty\", \"total_sales\": 32829.42, \"total_orders\": 239}, {\"order_month\": \"2017-06\", \"product_category_name_english\": \"sports_leisure\", \"total_sales\": 33912.02, \"total_orders\": 250}, {\"order_month\": \"2017-06\", \"product_category_name_english\": \"watches_gifts\", \"total_sales\": 30601.5, \"total_orders\": 118}, {\"order_month\": \"2017-07\", \"product_category_name_english\": \"bed_bath_table\", \"total_sales\": 70178.84, \"total_orders\": 513}, {\"order_month\": \"2017-07\", \"product_category_name_english\": \"computers_accessories\", \"total_sales\": 41533.86, \"total_orders\": 274}, {\"order_month\": \"2017-07\", \"product_category_name_english\": \"health_beauty\", \"total_sales\": 36048.12, \"total_orders\": 278}, {\"order_month\": \"2017-07\", \"product_category_name_english\": \"sports_leisure\", \"total_sales\": 44501.2, \"total_orders\": 337}, {\"order_month\": \"2017-07\", \"product_category_name_english\": \"watches_gifts\", \"total_sales\": 37503.91, \"total_orders\": 157}, {\"order_month\": \"2017-08\", \"product_category_name_english\": \"bed_bath_table\", \"total_sales\": 60832.71, \"total_orders\": 448}, {\"order_month\": \"2017-08\", \"product_category_name_english\": \"computers_accessories\", \"total_sales\": 36828.23, \"total_orders\": 297}, {\"order_month\": \"2017-08\", \"product_category_name_english\": \"health_beauty\", \"total_sales\": 51932.56, \"total_orders\": 345}, {\"order_month\": \"2017-08\", \"product_category_name_english\": \"sports_leisure\", \"total_sales\": 43028.91, \"total_orders\": 383}, {\"order_month\": \"2017-08\", \"product_category_name_english\": \"watches_gifts\", \"total_sales\": 37795.1, \"total_orders\": 195}, {\"order_month\": \"2017-09\", \"product_category_name_english\": \"bed_bath_table\", \"total_sales\": 56262.46, \"total_orders\": 461}, {\"order_month\": \"2017-09\", \"product_category_name_english\": \"computers_accessories\", \"total_sales\": 30928.36, \"total_orders\": 216}, {\"order_month\": \"2017-09\", \"product_category_name_english\": \"health_beauty\", \"total_sales\": 53971.16, \"total_orders\": 360}, {\"order_month\": \"2017-09\", \"product_category_name_english\": \"sports_leisure\", \"total_sales\": 51491.64, \"total_orders\": 416}, {\"order_month\": \"2017-09\", \"product_category_name_english\": \"watches_gifts\", \"total_sales\": 48255.27, \"total_orders\": 255}, {\"order_month\": \"2017-10\", \"product_category_name_english\": \"bed_bath_table\", \"total_sales\": 52200.840000000004, \"total_orders\": 445}, {\"order_month\": \"2017-10\", \"product_category_name_english\": \"computers_accessories\", \"total_sales\": 44929.97, \"total_orders\": 265}, {\"order_month\": \"2017-10\", \"product_category_name_english\": \"health_beauty\", \"total_sales\": 43601.54, \"total_orders\": 332}, {\"order_month\": \"2017-10\", \"product_category_name_english\": \"sports_leisure\", \"total_sales\": 52362.29, \"total_orders\": 424}, {\"order_month\": \"2017-10\", \"product_category_name_english\": \"watches_gifts\", \"total_sales\": 70322.6, \"total_orders\": 287}, {\"order_month\": \"2017-11\", \"product_category_name_english\": \"bed_bath_table\", \"total_sales\": 93516.29000000001, \"total_orders\": 817}, {\"order_month\": \"2017-11\", \"product_category_name_english\": \"computers_accessories\", \"total_sales\": 75733.66, \"total_orders\": 444}, {\"order_month\": \"2017-11\", \"product_category_name_english\": \"health_beauty\", \"total_sales\": 82830.06, \"total_orders\": 530}, {\"order_month\": \"2017-11\", \"product_category_name_english\": \"sports_leisure\", \"total_sales\": 67478.22, \"total_orders\": 557}, {\"order_month\": \"2017-11\", \"product_category_name_english\": \"watches_gifts\", \"total_sales\": 100717.41, \"total_orders\": 430}, {\"order_month\": \"2017-12\", \"product_category_name_english\": \"bed_bath_table\", \"total_sales\": 53133.97, \"total_orders\": 481}, {\"order_month\": \"2017-12\", \"product_category_name_english\": \"computers_accessories\", \"total_sales\": 38839.23, \"total_orders\": 252}, {\"order_month\": \"2017-12\", \"product_category_name_english\": \"health_beauty\", \"total_sales\": 65602.64, \"total_orders\": 432}, {\"order_month\": \"2017-12\", \"product_category_name_english\": \"sports_leisure\", \"total_sales\": 61918.64, \"total_orders\": 440}, {\"order_month\": \"2017-12\", \"product_category_name_english\": \"watches_gifts\", \"total_sales\": 73499.61, \"total_orders\": 346}, {\"order_month\": \"2018-01\", \"product_category_name_english\": \"bed_bath_table\", \"total_sales\": 81394.40000000001, \"total_orders\": 699}, {\"order_month\": \"2018-01\", \"product_category_name_english\": \"computers_accessories\", \"total_sales\": 86334.06, \"total_orders\": 593}, {\"order_month\": \"2018-01\", \"product_category_name_english\": \"health_beauty\", \"total_sales\": 74321.58, \"total_orders\": 572}, {\"order_month\": \"2018-01\", \"product_category_name_english\": \"sports_leisure\", \"total_sales\": 95237.3, \"total_orders\": 586}, {\"order_month\": \"2018-01\", \"product_category_name_english\": \"watches_gifts\", \"total_sales\": 78274.02, \"total_orders\": 337}, {\"order_month\": \"2018-02\", \"product_category_name_english\": \"bed_bath_table\", \"total_sales\": 65233.58, \"total_orders\": 593}, {\"order_month\": \"2018-02\", \"product_category_name_english\": \"computers_accessories\", \"total_sales\": 104316.85, \"total_orders\": 801}, {\"order_month\": \"2018-02\", \"product_category_name_english\": \"health_beauty\", \"total_sales\": 89247.21, \"total_orders\": 607}, {\"order_month\": \"2018-02\", \"product_category_name_english\": \"sports_leisure\", \"total_sales\": 78657.3, \"total_orders\": 585}, {\"order_month\": \"2018-02\", \"product_category_name_english\": \"watches_gifts\", \"total_sales\": 66500.65, \"total_orders\": 317}, {\"order_month\": \"2018-03\", \"product_category_name_english\": \"bed_bath_table\", \"total_sales\": 73156.03, \"total_orders\": 670}, {\"order_month\": \"2018-03\", \"product_category_name_english\": \"computers_accessories\", \"total_sales\": 87414.57, \"total_orders\": 638}, {\"order_month\": \"2018-03\", \"product_category_name_english\": \"health_beauty\", \"total_sales\": 92354.05, \"total_orders\": 621}, {\"order_month\": \"2018-03\", \"product_category_name_english\": \"sports_leisure\", \"total_sales\": 87393.88, \"total_orders\": 672}, {\"order_month\": \"2018-03\", \"product_category_name_english\": \"watches_gifts\", \"total_sales\": 103124.83, \"total_orders\": 416}, {\"order_month\": \"2018-04\", \"product_category_name_english\": \"bed_bath_table\", \"total_sales\": 74502.56, \"total_orders\": 608}, {\"order_month\": \"2018-04\", \"product_category_name_english\": \"computers_accessories\", \"total_sales\": 60450.58, \"total_orders\": 481}, {\"order_month\": \"2018-04\", \"product_category_name_english\": \"health_beauty\", \"total_sales\": 92590.45, \"total_orders\": 626}, {\"order_month\": \"2018-04\", \"product_category_name_english\": \"sports_leisure\", \"total_sales\": 68712.24, \"total_orders\": 532}, {\"order_month\": \"2018-04\", \"product_category_name_english\": \"watches_gifts\", \"total_sales\": 100471.04, \"total_orders\": 473}, {\"order_month\": \"2018-05\", \"product_category_name_english\": \"bed_bath_table\", \"total_sales\": 75339.56, \"total_orders\": 606}, {\"order_month\": \"2018-05\", \"product_category_name_english\": \"computers_accessories\", \"total_sales\": 61101.05, \"total_orders\": 409}, {\"order_month\": \"2018-05\", \"product_category_name_english\": \"health_beauty\", \"total_sales\": 99273.51, \"total_orders\": 686}, {\"order_month\": \"2018-05\", \"product_category_name_english\": \"sports_leisure\", \"total_sales\": 61661.76, \"total_orders\": 452}, {\"order_month\": \"2018-05\", \"product_category_name_english\": \"watches_gifts\", \"total_sales\": 125788.46, \"total_orders\": 596}, {\"order_month\": \"2018-06\", \"product_category_name_english\": \"bed_bath_table\", \"total_sales\": 75344.76, \"total_orders\": 657}, {\"order_month\": \"2018-06\", \"product_category_name_english\": \"computers_accessories\", \"total_sales\": 43878.01, \"total_orders\": 358}, {\"order_month\": \"2018-06\", \"product_category_name_english\": \"health_beauty\", \"total_sales\": 110025.34, \"total_orders\": 799}, {\"order_month\": \"2018-06\", \"product_category_name_english\": \"sports_leisure\", \"total_sales\": 47145.38, \"total_orders\": 377}, {\"order_month\": \"2018-06\", \"product_category_name_english\": \"watches_gifts\", \"total_sales\": 88517.26, \"total_orders\": 448}, {\"order_month\": \"2018-07\", \"product_category_name_english\": \"bed_bath_table\", \"total_sales\": 56471.66, \"total_orders\": 518}, {\"order_month\": \"2018-07\", \"product_category_name_english\": \"computers_accessories\", \"total_sales\": 43757.56, \"total_orders\": 389}, {\"order_month\": \"2018-07\", \"product_category_name_english\": \"health_beauty\", \"total_sales\": 108797.08, \"total_orders\": 713}, {\"order_month\": \"2018-07\", \"product_category_name_english\": \"sports_leisure\", \"total_sales\": 56653.96, \"total_orders\": 418}, {\"order_month\": \"2018-07\", \"product_category_name_english\": \"watches_gifts\", \"total_sales\": 100003.95, \"total_orders\": 514}, {\"order_month\": \"2018-08\", \"product_category_name_english\": \"bed_bath_table\", \"total_sales\": 62928.29, \"total_orders\": 558}, {\"order_month\": \"2018-08\", \"product_category_name_english\": \"computers_accessories\", \"total_sales\": 41094.3, \"total_orders\": 384}, {\"order_month\": \"2018-08\", \"product_category_name_english\": \"health_beauty\", \"total_sales\": 123448.5, \"total_orders\": 778}, {\"order_month\": \"2018-08\", \"product_category_name_english\": \"sports_leisure\", \"total_sales\": 51797.59, \"total_orders\": 436}, {\"order_month\": \"2018-08\", \"product_category_name_english\": \"watches_gifts\", \"total_sales\": 76581.87, \"total_orders\": 392}]}}, {\"mode\": \"vega-lite\"});\n",
              "</script>"
            ],
            "text/plain": [
              "alt.Chart(...)"
            ]
          },
          "metadata": {},
          "execution_count": 17
        }
      ]
    },
    {
      "cell_type": "markdown",
      "source": [
        "## **2. Análise de logística**"
      ],
      "metadata": {
        "id": "d2DMvJeBXVvT"
      }
    },
    {
      "cell_type": "markdown",
      "source": [
        "**Prazos de Entrega:** Calcular o tempo médio de entrega e identificar os fatores que influenciam atrasos nas entregas."
      ],
      "metadata": {
        "id": "j_JmTRUoXmSU"
      }
    },
    {
      "cell_type": "code",
      "source": [
        "merged_df['delivery_time'] = (\n",
        "    merged_df['order_delivered_customer_date'] - merged_df['order_purchase_timestamp']\n",
        ").dt.days\n",
        "\n",
        "merged_df['delivery_delay'] = (\n",
        "    merged_df['order_delivered_customer_date'] - merged_df['order_estimated_delivery_date']\n",
        ").dt.days\n",
        "\n",
        "merged_df['is_late'] = merged_df['delivery_delay'] > 0\n",
        "\n",
        "print(\"Tempo médio de entrega (em dias):\", merged_df['delivery_time'].mean())\n",
        "print(\"Mediana:\", merged_df['delivery_time'].median())\n",
        "\n",
        "percent_late = merged_df['is_late'].mean() * 100\n",
        "print(f\"{percent_late:.2f}% dos pedidos foram entregues com atraso.\")\n",
        "\n",
        "delivery_by_state = merged_df.groupby('customer_state')['delivery_time'].mean().sort_values()\n",
        "\n",
        "delivery_by_category = merged_df.groupby('product_category_name_english')['delivery_time'].mean().sort_values()\n",
        "\n",
        "chart_state = alt.Chart(delivery_by_state.reset_index()).mark_bar().encode(\n",
        "    x='delivery_time:Q',\n",
        "    y=alt.Y('customer_state:N', sort='-x'),\n",
        "    tooltip=['customer_state', 'delivery_time']\n",
        ").properties(\n",
        "    title='Tempo Médio de Entrega por Estado'\n",
        ")\n",
        "\n",
        "chart_state\n",
        "late_by_category = merged_df.groupby('product_category_name_english')['is_late'].mean().sort_values(ascending=False).reset_index()\n",
        "\n",
        "chart_late = alt.Chart(late_by_category.head(10)).mark_bar().encode(\n",
        "    x='is_late:Q',\n",
        "    y=alt.Y('product_category_name_english:N', sort='-x'),\n",
        "    tooltip=['product_category_name_english', 'is_late']\n",
        ").properties(\n",
        "    title='Top 10 Categorias com Mais Atrasos'\n",
        ")\n",
        "\n",
        "chart_late\n"
      ],
      "metadata": {
        "colab": {
          "base_uri": "https://localhost:8080/",
          "height": 335
        },
        "id": "LIABfvYRXLpD",
        "outputId": "f5910490-24d5-41ba-b10c-46851c13174b"
      },
      "execution_count": 22,
      "outputs": [
        {
          "output_type": "stream",
          "name": "stdout",
          "text": [
            "Tempo médio de entrega (em dias): 12.022588617548953\n",
            "Mediana: 10.0\n",
            "6.34% dos pedidos foram entregues com atraso.\n"
          ]
        },
        {
          "output_type": "execute_result",
          "data": {
            "text/html": [
              "\n",
              "<style>\n",
              "  #altair-viz-92f329181e9f41088c16d2f6f46b3858.vega-embed {\n",
              "    width: 100%;\n",
              "    display: flex;\n",
              "  }\n",
              "\n",
              "  #altair-viz-92f329181e9f41088c16d2f6f46b3858.vega-embed details,\n",
              "  #altair-viz-92f329181e9f41088c16d2f6f46b3858.vega-embed details summary {\n",
              "    position: relative;\n",
              "  }\n",
              "</style>\n",
              "<div id=\"altair-viz-92f329181e9f41088c16d2f6f46b3858\"></div>\n",
              "<script type=\"text/javascript\">\n",
              "  var VEGA_DEBUG = (typeof VEGA_DEBUG == \"undefined\") ? {} : VEGA_DEBUG;\n",
              "  (function(spec, embedOpt){\n",
              "    let outputDiv = document.currentScript.previousElementSibling;\n",
              "    if (outputDiv.id !== \"altair-viz-92f329181e9f41088c16d2f6f46b3858\") {\n",
              "      outputDiv = document.getElementById(\"altair-viz-92f329181e9f41088c16d2f6f46b3858\");\n",
              "    }\n",
              "\n",
              "    const paths = {\n",
              "      \"vega\": \"https://cdn.jsdelivr.net/npm/vega@5?noext\",\n",
              "      \"vega-lib\": \"https://cdn.jsdelivr.net/npm/vega-lib?noext\",\n",
              "      \"vega-lite\": \"https://cdn.jsdelivr.net/npm/vega-lite@5.20.1?noext\",\n",
              "      \"vega-embed\": \"https://cdn.jsdelivr.net/npm/vega-embed@6?noext\",\n",
              "    };\n",
              "\n",
              "    function maybeLoadScript(lib, version) {\n",
              "      var key = `${lib.replace(\"-\", \"\")}_version`;\n",
              "      return (VEGA_DEBUG[key] == version) ?\n",
              "        Promise.resolve(paths[lib]) :\n",
              "        new Promise(function(resolve, reject) {\n",
              "          var s = document.createElement('script');\n",
              "          document.getElementsByTagName(\"head\")[0].appendChild(s);\n",
              "          s.async = true;\n",
              "          s.onload = () => {\n",
              "            VEGA_DEBUG[key] = version;\n",
              "            return resolve(paths[lib]);\n",
              "          };\n",
              "          s.onerror = () => reject(`Error loading script: ${paths[lib]}`);\n",
              "          s.src = paths[lib];\n",
              "        });\n",
              "    }\n",
              "\n",
              "    function showError(err) {\n",
              "      outputDiv.innerHTML = `<div class=\"error\" style=\"color:red;\">${err}</div>`;\n",
              "      throw err;\n",
              "    }\n",
              "\n",
              "    function displayChart(vegaEmbed) {\n",
              "      vegaEmbed(outputDiv, spec, embedOpt)\n",
              "        .catch(err => showError(`Javascript Error: ${err.message}<br>This usually means there's a typo in your chart specification. See the javascript console for the full traceback.`));\n",
              "    }\n",
              "\n",
              "    if(typeof define === \"function\" && define.amd) {\n",
              "      requirejs.config({paths});\n",
              "      let deps = [\"vega-embed\"];\n",
              "      require(deps, displayChart, err => showError(`Error loading script: ${err.message}`));\n",
              "    } else {\n",
              "      maybeLoadScript(\"vega\", \"5\")\n",
              "        .then(() => maybeLoadScript(\"vega-lite\", \"5.20.1\"))\n",
              "        .then(() => maybeLoadScript(\"vega-embed\", \"6\"))\n",
              "        .catch(showError)\n",
              "        .then(() => displayChart(vegaEmbed));\n",
              "    }\n",
              "  })({\"config\": {\"view\": {\"continuousWidth\": 300, \"continuousHeight\": 300}}, \"data\": {\"name\": \"data-ca7d3150da570277c0fdbf4a803e6acb\"}, \"mark\": {\"type\": \"bar\"}, \"encoding\": {\"tooltip\": [{\"field\": \"product_category_name_english\", \"type\": \"nominal\"}, {\"field\": \"is_late\", \"type\": \"quantitative\"}], \"x\": {\"field\": \"is_late\", \"type\": \"quantitative\"}, \"y\": {\"field\": \"product_category_name_english\", \"sort\": \"-x\", \"type\": \"nominal\"}}, \"title\": \"Top 10 Categorias com Mais Atrasos\", \"$schema\": \"https://vega.github.io/schema/vega-lite/v5.20.1.json\", \"datasets\": {\"data-ca7d3150da570277c0fdbf4a803e6acb\": [{\"product_category_name_english\": \"home_comfort_2\", \"is_late\": 0.12903225806451613}, {\"product_category_name_english\": \"furniture_mattress_and_upholstery\", \"is_late\": 0.12195121951219512}, {\"product_category_name_english\": \"audio\", \"is_late\": 0.11286089238845144}, {\"product_category_name_english\": \"christmas_supplies\", \"is_late\": 0.0967741935483871}, {\"product_category_name_english\": \"home_confort\", \"is_late\": 0.08368200836820083}, {\"product_category_name_english\": \"fashion_underwear_beach\", \"is_late\": 0.08333333333333333}, {\"product_category_name_english\": \"books_technical\", \"is_late\": 0.07720588235294118}, {\"product_category_name_english\": \"office_furniture\", \"is_late\": 0.07718120805369127}, {\"product_category_name_english\": \"furniture_living_room\", \"is_late\": 0.07706766917293233}, {\"product_category_name_english\": \"construction_tools_lights\", \"is_late\": 0.07643312101910828}]}}, {\"mode\": \"vega-lite\"});\n",
              "</script>"
            ],
            "text/plain": [
              "alt.Chart(...)"
            ]
          },
          "metadata": {},
          "execution_count": 22
        }
      ]
    },
    {
      "cell_type": "markdown",
      "source": [
        "## **3. Análise de Satisfação do Cliente**"
      ],
      "metadata": {
        "id": "g-JqcE19X_bE"
      }
    },
    {
      "cell_type": "markdown",
      "source": [
        "**Impacto dos Atrasos na Satisfação do Cliente:** Examinar a relação entre atrasos na entrega e a satisfação do cliente."
      ],
      "metadata": {
        "id": "eSyjSOrsYEPk"
      }
    },
    {
      "cell_type": "code",
      "source": [
        "review_df = merged_df[\n",
        "    merged_df['review_score'].notnull() &\n",
        "    merged_df['order_delivered_customer_date'].notnull() &\n",
        "    merged_df['order_estimated_delivery_date'].notnull()\n",
        "].copy()\n",
        "\n",
        "review_df['delivery_delay'] = (\n",
        "    review_df['order_delivered_customer_date'] - review_df['order_estimated_delivery_date']\n",
        ").dt.days\n",
        "\n",
        "review_df['is_late'] = review_df['delivery_delay'] > 0\n",
        "\n",
        "mean_score_late = review_df[review_df['is_late']]['review_score'].mean()\n",
        "mean_score_on_time = review_df[~review_df['is_late']]['review_score'].mean()\n",
        "\n",
        "print(f\"Avaliação média com atraso: {mean_score_late:.2f}\")\n",
        "print(f\"Avaliação média sem atraso: {mean_score_on_time:.2f}\")\n",
        "\n",
        "score_by_late = review_df.groupby(['is_late', 'review_score']).size().reset_index(name='count')\n",
        "\n",
        "chart = alt.Chart(score_by_late).mark_bar().encode(\n",
        "    x=alt.X('review_score:O', title='Nota do Cliente'),\n",
        "    y='count:Q',\n",
        "    color='is_late:N',\n",
        "    column='is_late:N',\n",
        "    tooltip=['review_score', 'count']\n",
        ").properties(\n",
        "    title='Distribuição das Avaliações com e sem Atraso'\n",
        ")\n",
        "\n",
        "chart\n"
      ],
      "metadata": {
        "colab": {
          "base_uri": "https://localhost:8080/",
          "height": 465
        },
        "id": "qmCCK-j_Yrdk",
        "outputId": "da4a8b55-145f-4d4a-eb3d-0ca80cfce52a"
      },
      "execution_count": 12,
      "outputs": [
        {
          "output_type": "stream",
          "name": "stdout",
          "text": [
            "Avaliação média com atraso: 2.25\n",
            "Avaliação média sem atraso: 4.21\n"
          ]
        },
        {
          "output_type": "execute_result",
          "data": {
            "text/html": [
              "\n",
              "<style>\n",
              "  #altair-viz-23d7ca027aed44c1a2e1449a73763f4f.vega-embed {\n",
              "    width: 100%;\n",
              "    display: flex;\n",
              "  }\n",
              "\n",
              "  #altair-viz-23d7ca027aed44c1a2e1449a73763f4f.vega-embed details,\n",
              "  #altair-viz-23d7ca027aed44c1a2e1449a73763f4f.vega-embed details summary {\n",
              "    position: relative;\n",
              "  }\n",
              "</style>\n",
              "<div id=\"altair-viz-23d7ca027aed44c1a2e1449a73763f4f\"></div>\n",
              "<script type=\"text/javascript\">\n",
              "  var VEGA_DEBUG = (typeof VEGA_DEBUG == \"undefined\") ? {} : VEGA_DEBUG;\n",
              "  (function(spec, embedOpt){\n",
              "    let outputDiv = document.currentScript.previousElementSibling;\n",
              "    if (outputDiv.id !== \"altair-viz-23d7ca027aed44c1a2e1449a73763f4f\") {\n",
              "      outputDiv = document.getElementById(\"altair-viz-23d7ca027aed44c1a2e1449a73763f4f\");\n",
              "    }\n",
              "\n",
              "    const paths = {\n",
              "      \"vega\": \"https://cdn.jsdelivr.net/npm/vega@5?noext\",\n",
              "      \"vega-lib\": \"https://cdn.jsdelivr.net/npm/vega-lib?noext\",\n",
              "      \"vega-lite\": \"https://cdn.jsdelivr.net/npm/vega-lite@5.20.1?noext\",\n",
              "      \"vega-embed\": \"https://cdn.jsdelivr.net/npm/vega-embed@6?noext\",\n",
              "    };\n",
              "\n",
              "    function maybeLoadScript(lib, version) {\n",
              "      var key = `${lib.replace(\"-\", \"\")}_version`;\n",
              "      return (VEGA_DEBUG[key] == version) ?\n",
              "        Promise.resolve(paths[lib]) :\n",
              "        new Promise(function(resolve, reject) {\n",
              "          var s = document.createElement('script');\n",
              "          document.getElementsByTagName(\"head\")[0].appendChild(s);\n",
              "          s.async = true;\n",
              "          s.onload = () => {\n",
              "            VEGA_DEBUG[key] = version;\n",
              "            return resolve(paths[lib]);\n",
              "          };\n",
              "          s.onerror = () => reject(`Error loading script: ${paths[lib]}`);\n",
              "          s.src = paths[lib];\n",
              "        });\n",
              "    }\n",
              "\n",
              "    function showError(err) {\n",
              "      outputDiv.innerHTML = `<div class=\"error\" style=\"color:red;\">${err}</div>`;\n",
              "      throw err;\n",
              "    }\n",
              "\n",
              "    function displayChart(vegaEmbed) {\n",
              "      vegaEmbed(outputDiv, spec, embedOpt)\n",
              "        .catch(err => showError(`Javascript Error: ${err.message}<br>This usually means there's a typo in your chart specification. See the javascript console for the full traceback.`));\n",
              "    }\n",
              "\n",
              "    if(typeof define === \"function\" && define.amd) {\n",
              "      requirejs.config({paths});\n",
              "      let deps = [\"vega-embed\"];\n",
              "      require(deps, displayChart, err => showError(`Error loading script: ${err.message}`));\n",
              "    } else {\n",
              "      maybeLoadScript(\"vega\", \"5\")\n",
              "        .then(() => maybeLoadScript(\"vega-lite\", \"5.20.1\"))\n",
              "        .then(() => maybeLoadScript(\"vega-embed\", \"6\"))\n",
              "        .catch(showError)\n",
              "        .then(() => displayChart(vegaEmbed));\n",
              "    }\n",
              "  })({\"config\": {\"view\": {\"continuousWidth\": 300, \"continuousHeight\": 300}}, \"data\": {\"name\": \"data-c28a15d724f5346a177b263157d918dc\"}, \"mark\": {\"type\": \"bar\"}, \"encoding\": {\"color\": {\"field\": \"is_late\", \"type\": \"nominal\"}, \"column\": {\"field\": \"is_late\", \"type\": \"nominal\"}, \"tooltip\": [{\"field\": \"review_score\", \"type\": \"quantitative\"}, {\"field\": \"count\", \"type\": \"quantitative\"}], \"x\": {\"field\": \"review_score\", \"title\": \"Nota do Cliente\", \"type\": \"ordinal\"}, \"y\": {\"field\": \"count\", \"type\": \"quantitative\"}}, \"title\": \"Distribui\\u00e7\\u00e3o das Avalia\\u00e7\\u00f5es com e sem Atraso\", \"$schema\": \"https://vega.github.io/schema/vega-lite/v5.20.1.json\", \"datasets\": {\"data-c28a15d724f5346a177b263157d918dc\": [{\"is_late\": false, \"review_score\": 1.0, \"count\": 9113}, {\"is_late\": false, \"review_score\": 2.0, \"count\": 3263}, {\"is_late\": false, \"review_score\": 3.0, \"count\": 8870}, {\"is_late\": false, \"review_score\": 4.0, \"count\": 21413}, {\"is_late\": false, \"review_score\": 5.0, \"count\": 64834}, {\"is_late\": true, \"review_score\": 1.0, \"count\": 4008}, {\"is_late\": true, \"review_score\": 2.0, \"count\": 636}, {\"is_late\": true, \"review_score\": 3.0, \"count\": 780}, {\"is_late\": true, \"review_score\": 4.0, \"count\": 737}, {\"is_late\": true, \"review_score\": 5.0, \"count\": 1207}]}}, {\"mode\": \"vega-lite\"});\n",
              "</script>"
            ],
            "text/plain": [
              "alt.Chart(...)"
            ]
          },
          "metadata": {},
          "execution_count": 12
        }
      ]
    },
    {
      "cell_type": "markdown",
      "source": [
        "## **4. Análise Financeira**\n"
      ],
      "metadata": {
        "id": "pfJlxtv-ZXG0"
      }
    },
    {
      "cell_type": "markdown",
      "source": [
        "**Análise de Lucratividade por Categoria:** Calcular a lucratividade de diferentes categorias de produtos, levando em conta o custo dos produtos e o preço de venda."
      ],
      "metadata": {
        "id": "RZbsmCNPiqAO"
      }
    },
    {
      "cell_type": "code",
      "source": [
        "profit_df = merged_df[\n",
        "    merged_df['price'].notnull() &\n",
        "    merged_df['freight_value'].notnull() &\n",
        "    merged_df['product_category_name_english'].notnull()\n",
        "].copy()\n",
        "\n",
        "profit_df['estimated_cost'] = profit_df['price'] * 0.40\n",
        "profit_df['gross_profit'] = profit_df['price'] - profit_df['estimated_cost']\n",
        "profit_df['net_profit'] = profit_df['gross_profit'] - profit_df['freight_value']\n",
        "\n",
        "category_profit = profit_df.groupby('product_category_name_english').agg(\n",
        "    total_revenue=('price', 'sum'),\n",
        "    total_cost=('estimated_cost', 'sum'),\n",
        "    total_freight=('freight_value', 'sum'),\n",
        "    total_net_profit=('net_profit', 'sum'),\n",
        "    order_count=('order_id', 'nunique')\n",
        ").reset_index()\n",
        "\n",
        "category_profit['avg_profit_per_order'] = category_profit['total_net_profit'] / category_profit['order_count']\n",
        "\n",
        "category_profit = category_profit.sort_values(by='total_net_profit', ascending=False)\n",
        "\n",
        "chart_profit = alt.Chart(category_profit.head(10)).mark_bar().encode(\n",
        "    x='total_net_profit:Q',\n",
        "    y=alt.Y('product_category_name_english:N', sort='-x'),\n",
        "    tooltip=['product_category_name_english', 'total_net_profit']\n",
        ").properties(\n",
        "    title='Top 10 Categorias Mais Lucrativas'\n",
        ")\n",
        "\n",
        "chart_profit\n"
      ],
      "metadata": {
        "colab": {
          "base_uri": "https://localhost:8080/",
          "height": 280
        },
        "id": "cuMBsmjvj5vt",
        "outputId": "7cb3ad7c-6bfa-4b01-9f3e-8959d003eec2"
      },
      "execution_count": 13,
      "outputs": [
        {
          "output_type": "execute_result",
          "data": {
            "text/html": [
              "\n",
              "<style>\n",
              "  #altair-viz-0bdfdd3d98cb4b54bb8359deef08e5cc.vega-embed {\n",
              "    width: 100%;\n",
              "    display: flex;\n",
              "  }\n",
              "\n",
              "  #altair-viz-0bdfdd3d98cb4b54bb8359deef08e5cc.vega-embed details,\n",
              "  #altair-viz-0bdfdd3d98cb4b54bb8359deef08e5cc.vega-embed details summary {\n",
              "    position: relative;\n",
              "  }\n",
              "</style>\n",
              "<div id=\"altair-viz-0bdfdd3d98cb4b54bb8359deef08e5cc\"></div>\n",
              "<script type=\"text/javascript\">\n",
              "  var VEGA_DEBUG = (typeof VEGA_DEBUG == \"undefined\") ? {} : VEGA_DEBUG;\n",
              "  (function(spec, embedOpt){\n",
              "    let outputDiv = document.currentScript.previousElementSibling;\n",
              "    if (outputDiv.id !== \"altair-viz-0bdfdd3d98cb4b54bb8359deef08e5cc\") {\n",
              "      outputDiv = document.getElementById(\"altair-viz-0bdfdd3d98cb4b54bb8359deef08e5cc\");\n",
              "    }\n",
              "\n",
              "    const paths = {\n",
              "      \"vega\": \"https://cdn.jsdelivr.net/npm/vega@5?noext\",\n",
              "      \"vega-lib\": \"https://cdn.jsdelivr.net/npm/vega-lib?noext\",\n",
              "      \"vega-lite\": \"https://cdn.jsdelivr.net/npm/vega-lite@5.20.1?noext\",\n",
              "      \"vega-embed\": \"https://cdn.jsdelivr.net/npm/vega-embed@6?noext\",\n",
              "    };\n",
              "\n",
              "    function maybeLoadScript(lib, version) {\n",
              "      var key = `${lib.replace(\"-\", \"\")}_version`;\n",
              "      return (VEGA_DEBUG[key] == version) ?\n",
              "        Promise.resolve(paths[lib]) :\n",
              "        new Promise(function(resolve, reject) {\n",
              "          var s = document.createElement('script');\n",
              "          document.getElementsByTagName(\"head\")[0].appendChild(s);\n",
              "          s.async = true;\n",
              "          s.onload = () => {\n",
              "            VEGA_DEBUG[key] = version;\n",
              "            return resolve(paths[lib]);\n",
              "          };\n",
              "          s.onerror = () => reject(`Error loading script: ${paths[lib]}`);\n",
              "          s.src = paths[lib];\n",
              "        });\n",
              "    }\n",
              "\n",
              "    function showError(err) {\n",
              "      outputDiv.innerHTML = `<div class=\"error\" style=\"color:red;\">${err}</div>`;\n",
              "      throw err;\n",
              "    }\n",
              "\n",
              "    function displayChart(vegaEmbed) {\n",
              "      vegaEmbed(outputDiv, spec, embedOpt)\n",
              "        .catch(err => showError(`Javascript Error: ${err.message}<br>This usually means there's a typo in your chart specification. See the javascript console for the full traceback.`));\n",
              "    }\n",
              "\n",
              "    if(typeof define === \"function\" && define.amd) {\n",
              "      requirejs.config({paths});\n",
              "      let deps = [\"vega-embed\"];\n",
              "      require(deps, displayChart, err => showError(`Error loading script: ${err.message}`));\n",
              "    } else {\n",
              "      maybeLoadScript(\"vega\", \"5\")\n",
              "        .then(() => maybeLoadScript(\"vega-lite\", \"5.20.1\"))\n",
              "        .then(() => maybeLoadScript(\"vega-embed\", \"6\"))\n",
              "        .catch(showError)\n",
              "        .then(() => displayChart(vegaEmbed));\n",
              "    }\n",
              "  })({\"config\": {\"view\": {\"continuousWidth\": 300, \"continuousHeight\": 300}}, \"data\": {\"name\": \"data-9930a135dcd01dd6c2ed264301121e16\"}, \"mark\": {\"type\": \"bar\"}, \"encoding\": {\"tooltip\": [{\"field\": \"product_category_name_english\", \"type\": \"nominal\"}, {\"field\": \"total_net_profit\", \"type\": \"quantitative\"}], \"x\": {\"field\": \"total_net_profit\", \"type\": \"quantitative\"}, \"y\": {\"field\": \"product_category_name_english\", \"sort\": \"-x\", \"type\": \"nominal\"}}, \"title\": \"Top 10 Categorias Mais Lucrativas\", \"$schema\": \"https://vega.github.io/schema/vega-lite/v5.20.1.json\", \"datasets\": {\"data-9930a135dcd01dd6c2ed264301121e16\": [{\"product_category_name_english\": \"watches_gifts\", \"total_revenue\": 1254322.95, \"total_cost\": 501729.18000000005, \"total_freight\": 104522.64, \"total_net_profit\": 648071.13, \"order_count\": 5624, \"avg_profit_per_order\": 115.2331312233286}, {\"product_category_name_english\": \"health_beauty\", \"total_revenue\": 1301947.97, \"total_cost\": 520779.188, \"total_freight\": 189449.79, \"total_net_profit\": 591718.992, \"order_count\": 8836, \"avg_profit_per_order\": 66.96683929379809}, {\"product_category_name_english\": \"bed_bath_table\", \"total_revenue\": 1107249.09, \"total_cost\": 442899.63600000006, \"total_freight\": 220412.93, \"total_net_profit\": 443936.524, \"order_count\": 9417, \"avg_profit_per_order\": 47.1420329191887}, {\"product_category_name_english\": \"sports_leisure\", \"total_revenue\": 1029603.88, \"total_cost\": 411841.552, \"total_freight\": 175593.97, \"total_net_profit\": 442168.358, \"order_count\": 7720, \"avg_profit_per_order\": 57.27569404145078}, {\"product_category_name_english\": \"computers_accessories\", \"total_revenue\": 950053.6900000001, \"total_cost\": 380021.476, \"total_freight\": 154308.34, \"total_net_profit\": 415723.874, \"order_count\": 6689, \"avg_profit_per_order\": 62.15037733592465}, {\"product_category_name_english\": \"cool_stuff\", \"total_revenue\": 664637.13, \"total_cost\": 265854.852, \"total_freight\": 88065.08, \"total_net_profit\": 310717.198, \"order_count\": 3632, \"avg_profit_per_order\": 85.54988931718061}, {\"product_category_name_english\": \"furniture_decor\", \"total_revenue\": 772096.17, \"total_cost\": 308838.468, \"total_freight\": 183271.05, \"total_net_profit\": 279986.652, \"order_count\": 6449, \"avg_profit_per_order\": 43.41551434330904}, {\"product_category_name_english\": \"auto\", \"total_revenue\": 618395.5, \"total_cost\": 247358.2, \"total_freight\": 96036.45, \"total_net_profit\": 275000.85, \"order_count\": 3897, \"avg_profit_per_order\": 70.56732101616628}, {\"product_category_name_english\": \"housewares\", \"total_revenue\": 668880.94, \"total_cost\": 267552.376, \"total_freight\": 154742.56, \"total_net_profit\": 246586.004, \"order_count\": 5884, \"avg_profit_per_order\": 41.9078864717879}, {\"product_category_name_english\": \"toys\", \"total_revenue\": 501118.39, \"total_cost\": 200447.356, \"total_freight\": 81099.72, \"total_net_profit\": 219571.31399999998, \"order_count\": 3886, \"avg_profit_per_order\": 56.50316881111682}]}}, {\"mode\": \"vega-lite\"});\n",
              "</script>"
            ],
            "text/plain": [
              "alt.Chart(...)"
            ]
          },
          "metadata": {},
          "execution_count": 13
        }
      ]
    },
    {
      "cell_type": "markdown",
      "source": [
        "## **5. Análise de Marketing**"
      ],
      "metadata": {
        "id": "CL1oCzf4kxSY"
      }
    },
    {
      "cell_type": "markdown",
      "source": [
        "**Eficácia de Campanhas Promocionais:** Avaliar o impacto de campanhas\n",
        "promocionais e descontos no volume de vendas e na aquisição de novos clientes."
      ],
      "metadata": {
        "id": "uYbG-43uk8tc"
      }
    },
    {
      "cell_type": "code",
      "source": [
        "merged_df['order_month'] = merged_df['order_purchase_timestamp'].dt.to_period('M')\n",
        "merged_df['order_month_str'] = merged_df['order_month'].astype(str)\n",
        "\n",
        "monthly_sales = merged_df.groupby('order_month_str').agg(\n",
        "    total_sales=('price', 'sum'),\n",
        "    total_orders=('order_id', 'nunique'),\n",
        "    new_customers=('customer_unique_id', 'nunique')\n",
        ").reset_index()\n",
        "\n",
        "promo_months = ['2017-11', '2017-12', '2018-11', '2018-12']\n",
        "monthly_sales['is_promotional'] = monthly_sales['order_month_str'].isin(promo_months)\n",
        "\n",
        "promo_stats = monthly_sales.groupby('is_promotional').agg(\n",
        "    avg_sales=('total_sales', 'mean'),\n",
        "    avg_orders=('total_orders', 'mean'),\n",
        "    avg_new_customers=('new_customers', 'mean')\n",
        ").reset_index()\n",
        "\n",
        "print(\"Comparativo entre meses promocionais e não promocionais:\")\n",
        "print(promo_stats)\n",
        "\n",
        "import altair as alt\n",
        "\n",
        "chart = alt.Chart(monthly_sales).mark_bar().encode(\n",
        "    x=alt.X('order_month_str:N', title='Mês'),\n",
        "    y=alt.Y('total_sales:Q', title='Vendas Totais'),\n",
        "    color=alt.Color('is_promotional:N', legend=alt.Legend(title='Promoção')),\n",
        "    tooltip=['order_month_str', 'total_sales', 'total_orders', 'new_customers']\n",
        ").properties(\n",
        "    title='Vendas Mensais com Destaque para Períodos Promocionais',\n",
        "    width=700,\n",
        "    height=400\n",
        ")\n",
        "\n",
        "chart"
      ],
      "metadata": {
        "colab": {
          "base_uri": "https://localhost:8080/",
          "height": 585
        },
        "id": "-ka6B_66l_tJ",
        "outputId": "1bfe101a-02e8-4871-8756-be4f239536ff"
      },
      "execution_count": 19,
      "outputs": [
        {
          "output_type": "stream",
          "name": "stdout",
          "text": [
            "Comparativo entre meses promocionais e não promocionais:\n",
            "   is_promotional      avg_sales   avg_orders  avg_new_customers\n",
            "0           False  541089.283913  3748.869565        3696.217391\n",
            "1            True  914323.060000  6608.500000        6516.500000\n"
          ]
        },
        {
          "output_type": "execute_result",
          "data": {
            "text/html": [
              "\n",
              "<style>\n",
              "  #altair-viz-c036ab6902fe4e06a7e61a219c2d535c.vega-embed {\n",
              "    width: 100%;\n",
              "    display: flex;\n",
              "  }\n",
              "\n",
              "  #altair-viz-c036ab6902fe4e06a7e61a219c2d535c.vega-embed details,\n",
              "  #altair-viz-c036ab6902fe4e06a7e61a219c2d535c.vega-embed details summary {\n",
              "    position: relative;\n",
              "  }\n",
              "</style>\n",
              "<div id=\"altair-viz-c036ab6902fe4e06a7e61a219c2d535c\"></div>\n",
              "<script type=\"text/javascript\">\n",
              "  var VEGA_DEBUG = (typeof VEGA_DEBUG == \"undefined\") ? {} : VEGA_DEBUG;\n",
              "  (function(spec, embedOpt){\n",
              "    let outputDiv = document.currentScript.previousElementSibling;\n",
              "    if (outputDiv.id !== \"altair-viz-c036ab6902fe4e06a7e61a219c2d535c\") {\n",
              "      outputDiv = document.getElementById(\"altair-viz-c036ab6902fe4e06a7e61a219c2d535c\");\n",
              "    }\n",
              "\n",
              "    const paths = {\n",
              "      \"vega\": \"https://cdn.jsdelivr.net/npm/vega@5?noext\",\n",
              "      \"vega-lib\": \"https://cdn.jsdelivr.net/npm/vega-lib?noext\",\n",
              "      \"vega-lite\": \"https://cdn.jsdelivr.net/npm/vega-lite@5.20.1?noext\",\n",
              "      \"vega-embed\": \"https://cdn.jsdelivr.net/npm/vega-embed@6?noext\",\n",
              "    };\n",
              "\n",
              "    function maybeLoadScript(lib, version) {\n",
              "      var key = `${lib.replace(\"-\", \"\")}_version`;\n",
              "      return (VEGA_DEBUG[key] == version) ?\n",
              "        Promise.resolve(paths[lib]) :\n",
              "        new Promise(function(resolve, reject) {\n",
              "          var s = document.createElement('script');\n",
              "          document.getElementsByTagName(\"head\")[0].appendChild(s);\n",
              "          s.async = true;\n",
              "          s.onload = () => {\n",
              "            VEGA_DEBUG[key] = version;\n",
              "            return resolve(paths[lib]);\n",
              "          };\n",
              "          s.onerror = () => reject(`Error loading script: ${paths[lib]}`);\n",
              "          s.src = paths[lib];\n",
              "        });\n",
              "    }\n",
              "\n",
              "    function showError(err) {\n",
              "      outputDiv.innerHTML = `<div class=\"error\" style=\"color:red;\">${err}</div>`;\n",
              "      throw err;\n",
              "    }\n",
              "\n",
              "    function displayChart(vegaEmbed) {\n",
              "      vegaEmbed(outputDiv, spec, embedOpt)\n",
              "        .catch(err => showError(`Javascript Error: ${err.message}<br>This usually means there's a typo in your chart specification. See the javascript console for the full traceback.`));\n",
              "    }\n",
              "\n",
              "    if(typeof define === \"function\" && define.amd) {\n",
              "      requirejs.config({paths});\n",
              "      let deps = [\"vega-embed\"];\n",
              "      require(deps, displayChart, err => showError(`Error loading script: ${err.message}`));\n",
              "    } else {\n",
              "      maybeLoadScript(\"vega\", \"5\")\n",
              "        .then(() => maybeLoadScript(\"vega-lite\", \"5.20.1\"))\n",
              "        .then(() => maybeLoadScript(\"vega-embed\", \"6\"))\n",
              "        .catch(showError)\n",
              "        .then(() => displayChart(vegaEmbed));\n",
              "    }\n",
              "  })({\"config\": {\"view\": {\"continuousWidth\": 300, \"continuousHeight\": 300}}, \"data\": {\"name\": \"data-af1ee09ae52c318cefbd6aeeaf11b27e\"}, \"mark\": {\"type\": \"bar\"}, \"encoding\": {\"color\": {\"field\": \"is_promotional\", \"legend\": {\"title\": \"Promo\\u00e7\\u00e3o\"}, \"type\": \"nominal\"}, \"tooltip\": [{\"field\": \"order_month_str\", \"type\": \"nominal\"}, {\"field\": \"total_sales\", \"type\": \"quantitative\"}, {\"field\": \"total_orders\", \"type\": \"quantitative\"}, {\"field\": \"new_customers\", \"type\": \"quantitative\"}], \"x\": {\"field\": \"order_month_str\", \"title\": \"M\\u00eas\", \"type\": \"nominal\"}, \"y\": {\"field\": \"total_sales\", \"title\": \"Vendas Totais\", \"type\": \"quantitative\"}}, \"height\": 400, \"title\": \"Vendas Mensais com Destaque para Per\\u00edodos Promocionais\", \"width\": 700, \"$schema\": \"https://vega.github.io/schema/vega-lite/v5.20.1.json\", \"datasets\": {\"data-af1ee09ae52c318cefbd6aeeaf11b27e\": [{\"order_month_str\": \"2016-09\", \"total_sales\": 267.36, \"total_orders\": 4, \"new_customers\": 4, \"is_promotional\": false}, {\"order_month_str\": \"2016-10\", \"total_sales\": 51068.92, \"total_orders\": 324, \"new_customers\": 321, \"is_promotional\": false}, {\"order_month_str\": \"2016-12\", \"total_sales\": 10.9, \"total_orders\": 1, \"new_customers\": 1, \"is_promotional\": false}, {\"order_month_str\": \"2017-01\", \"total_sales\": 129895.32, \"total_orders\": 800, \"new_customers\": 765, \"is_promotional\": false}, {\"order_month_str\": \"2017-02\", \"total_sales\": 262013.86000000002, \"total_orders\": 1780, \"new_customers\": 1755, \"is_promotional\": false}, {\"order_month_str\": \"2017-03\", \"total_sales\": 398117.44, \"total_orders\": 2682, \"new_customers\": 2642, \"is_promotional\": false}, {\"order_month_str\": \"2017-04\", \"total_sales\": 392595.36, \"total_orders\": 2404, \"new_customers\": 2372, \"is_promotional\": false}, {\"order_month_str\": \"2017-05\", \"total_sales\": 549226.84, \"total_orders\": 3700, \"new_customers\": 3625, \"is_promotional\": false}, {\"order_month_str\": \"2017-06\", \"total_sales\": 456867.47000000003, \"total_orders\": 3245, \"new_customers\": 3180, \"is_promotional\": false}, {\"order_month_str\": \"2017-07\", \"total_sales\": 536906.96, \"total_orders\": 4026, \"new_customers\": 3947, \"is_promotional\": false}, {\"order_month_str\": \"2017-08\", \"total_sales\": 606026.98, \"total_orders\": 4331, \"new_customers\": 4246, \"is_promotional\": false}, {\"order_month_str\": \"2017-09\", \"total_sales\": 665047.38, \"total_orders\": 4285, \"new_customers\": 4212, \"is_promotional\": false}, {\"order_month_str\": \"2017-10\", \"total_sales\": 697457.32, \"total_orders\": 4631, \"new_customers\": 4561, \"is_promotional\": false}, {\"order_month_str\": \"2017-11\", \"total_sales\": 1055072.1, \"total_orders\": 7544, \"new_customers\": 7430, \"is_promotional\": true}, {\"order_month_str\": \"2017-12\", \"total_sales\": 773574.02, \"total_orders\": 5673, \"new_customers\": 5603, \"is_promotional\": true}, {\"order_month_str\": \"2018-01\", \"total_sales\": 993701.49, \"total_orders\": 7269, \"new_customers\": 7166, \"is_promotional\": false}, {\"order_month_str\": \"2018-02\", \"total_sales\": 889512.29, \"total_orders\": 6728, \"new_customers\": 6569, \"is_promotional\": false}, {\"order_month_str\": \"2018-03\", \"total_sales\": 1029589.67, \"total_orders\": 7211, \"new_customers\": 7115, \"is_promotional\": false}, {\"order_month_str\": \"2018-04\", \"total_sales\": 1031717.62, \"total_orders\": 6939, \"new_customers\": 6882, \"is_promotional\": false}, {\"order_month_str\": \"2018-05\", \"total_sales\": 1032699.42, \"total_orders\": 6873, \"new_customers\": 6814, \"is_promotional\": false}, {\"order_month_str\": \"2018-06\", \"total_sales\": 910053.03, \"total_orders\": 6167, \"new_customers\": 6128, \"is_promotional\": false}, {\"order_month_str\": \"2018-07\", \"total_sales\": 927401.38, \"total_orders\": 6292, \"new_customers\": 6230, \"is_promotional\": false}, {\"order_month_str\": \"2018-08\", \"total_sales\": 884731.52, \"total_orders\": 6512, \"new_customers\": 6460, \"is_promotional\": false}, {\"order_month_str\": \"2018-09\", \"total_sales\": 145.0, \"total_orders\": 16, \"new_customers\": 14, \"is_promotional\": false}, {\"order_month_str\": \"2018-10\", \"total_sales\": 0.0, \"total_orders\": 4, \"new_customers\": 4, \"is_promotional\": false}]}}, {\"mode\": \"vega-lite\"});\n",
              "</script>"
            ],
            "text/plain": [
              "alt.Chart(...)"
            ]
          },
          "metadata": {},
          "execution_count": 19
        }
      ]
    }
  ]
}